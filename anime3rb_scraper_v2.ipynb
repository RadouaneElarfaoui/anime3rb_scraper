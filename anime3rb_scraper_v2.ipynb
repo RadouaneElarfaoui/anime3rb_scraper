{
  "nbformat": 4,
  "nbformat_minor": 0,
  "metadata": {
    "colab": {
      "provenance": [],
      "authorship_tag": "ABX9TyM8m6gdYsAQLlZckED6QlJw",
      "include_colab_link": true
    },
    "kernelspec": {
      "name": "python3",
      "display_name": "Python 3"
    },
    "language_info": {
      "name": "python"
    }
  },
  "cells": [
    {
      "cell_type": "markdown",
      "metadata": {
        "id": "view-in-github",
        "colab_type": "text"
      },
      "source": [
        "<a href=\"https://colab.research.google.com/github/RadouaneElarfaoui/anime3rb_scraper/blob/master/anime3rb_scraper_v2.ipynb\" target=\"_parent\"><img src=\"https://colab.research.google.com/assets/colab-badge.svg\" alt=\"Open In Colab\"/></a>"
      ]
    },
    {
      "cell_type": "markdown",
      "metadata": {},
      "source": [
        "# Anime3rb Scraper - Google Colab Notebook\n",
        "\n",
        "Ce notebook vous permet d'exécuter le scraper Anime3rb directement dans Google Colab. Il installera les dépendances nécessaires et exécutera des exemples d'utilisation.\n",
        "\n",
        "[![Open In Colab](https://colab.research.google.com/assets/colab-badge.svg)](https://colab.research.google.com/github/YOUR_GITHUB_USERNAME/YOUR_REPO_NAME/blob/main/anime3rb_scraper.ipynb)\n",
        "\n",
        "**Note:** Le site anime3rb.com utilise Cloudflare, ce qui peut entraîner des problèmes de scraping. Ce script tente de contourner cette protection en utilisant Playwright, mais le succès n'est pas garanti."
      ]
    },
    {
      "cell_type": "code",
      "execution_count": null,
      "metadata": {},
      "outputs": [],
      "source": [
        "# 1. Installation des dépendances\n",
        "!pip install httpx beautifulsoup4 selectolax python-dotenv playwright\n",
        "!playwright install"
      ]
    },
    {
      "cell_type": "code",
      "execution_count": null,
      "metadata": {},
      "outputs": [],
      "source": [
        "# 2. Téléchargement du module anime3rb_client.py\n",
        "# Si vous avez ce notebook dans un dépôt GitHub, vous pouvez le télécharger directement.\n",
        "# Remplacez YOUR_GITHUB_USERNAME et YOUR_REPO_NAME par les vôtres.\n",
        "!wget -O anime3rb_client.py https://raw.githubusercontent.com/YOUR_GITHUB_USERNAME/YOUR_REPO_NAME/main/anime3rb_client.py\n",
        "\n",
        "# Alternative: Si vous exécutez ce notebook localement et que le fichier est déjà présent:\n",
        "# from google.colab import files\n",
        "# uploaded = files.upload() # Uploader anime3rb_client.py manuellement"
      ]
    },
    {
      "cell_type": "code",
      "execution_count": null,
      "metadata": {},
      "outputs": [],
      "source": [
        "# 3. Exécution des exemples d'utilisation\n",
        "import asyncio\n",
        "from anime3rb_client import Anime3rbClient, Anime3rbError, NotFoundError, Pagination, Anime, Episode, EpisodeLink\n",
        "\n",
        "async def main():\n",
        "    async with Anime3rbClient() as client:\n",
        "        print(\"\\n--- Testing list_anime ---\")\n",
        "        try:\n",
        "            pagination = await client.list_anime(page=1)\n",
        "            print(f\"Found {len(pagination.items)} animes on page 1.\")\n",
        "            if pagination.items:\n",
        "                first_anime = pagination.items[0]\n",
        "                print(f\"First anime: {first_anime.title} ({first_anime.url})\")\n",
        "\n",
        "                print(f\"\\n--- Testing get_anime for {first_anime.title} ---\")\n",
        "                full_anime = await client.get_anime(first_anime.url)\n",
        "                print(f\"Full anime details for {full_anime.title}:\")\n",
        "                print(f\"  Synopsis: {full_anime.synopsis[:100]}...\")\n",
        "                print(f\"  Genres: {', '.join(full_anime.genres)}\")\n",
        "                print(f\"  Status: {full_anime.status}\")\n",
        "                print(f\"  Rating: {full_anime.rating}\")\n",
        "                print(f\"  Year: {full_anime.year}\")\n",
        "\n",
        "                print(f\"\\n--- Testing list_episodes for {full_anime.title} ---\")\n",
        "                episodes = await client.list_episodes(full_anime.slug)\n",
        "                print(f\"Found {len(episodes)} episodes for {full_anime.title}.\")\n",
        "                if episodes:\n",
        "                    first_episode = episodes[0]\n",
        "                    print(f\"First episode: {first_episode.title} ({first_episode.url})\")\n",
        "\n",
        "                    print(f\"\\n--- Testing get_episode_links for {first_episode.title} ---\")\n",
        "                    episode_links = await client.get_episode_links(first_episode.url)\n",
        "                    print(f\"Found {len(episode_links)} links for {first_episode.title}.\")\n",
        "                    for link in episode_links:\n",
        "                        print(f\"  Server: {link.server}, Kind: {link.kind}, URL: {link.url}\")\n",
        "                else:\n",
        "                    print(f\"No episodes found for {full_anime.title}.\")\n",
        "            else:\n",
        "                print(\"No animes found on page 1.\")\n",
        "\n",
        "        except Anime3rbError as e:\n",
        "            print(f\"An error occurred during anime listing/detail: {e}\")\n",
        "\n",
        "        print(\"\\n--- Testing search (query: 'naruto') ---\")\n",
        "        try:\n",
        "            search_results = await client.search(\"naruto\")\n",
        "            print(f\"Found {len(search_results.items)} search results for 'naruto'.\")\n",
        "            if search_results.items:\n",
        "                for anime in search_results.items[:3]: # Print first 3 results\n",
        "                    print(f\"  - {anime.title} ({anime.url})\")\n",
        "        except Anime3rbError as e:\n",
        "            print(f\"An error occurred during search: {e}\")\n",
        "\n",
        "        print(\"\\n--- Testing list_genres ---\")\n",
        "        try:\n",
        "            genres = await client.list_genres()\n",
        "            print(f\"Found {len(genres)} genres.\")\n",
        "            print(f\"Genres: {', '.join(genres[:10])}...\") # Print first 10 genres\n",
        "        except Anime3rbError as e:\n",
        "            print(f\"An error occurred during genre listing: {e}\")\n",
        "\n",
        "asyncio.run(main())"
      ]
    }
  ]
}
