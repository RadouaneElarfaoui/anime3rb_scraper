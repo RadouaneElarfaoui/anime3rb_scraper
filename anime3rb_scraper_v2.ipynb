{
  "nbformat": 4,
  "nbformat_minor": 0,
  "metadata": {
    "colab": {
      "provenance": [],
      "authorship_tag": "ABX9TyM8m6gdYsAQLlZckED6QlJw",
      "include_colab_link": true
    },
    "kernelspec": {
      "name": "python3",
      "display_name": "Python 3"
    },
    "language_info": {
      "name": "python"
    }
  },
  "cells": [
    {
      "cell_type": "markdown",
      "metadata": {
        "id": "view-in-github",
        "colab_type": "text"
      },
      "source": [
        "<a href=\"https://colab.research.google.com/github/RadouaneElarfaoui/anime3rb_scraper/blob/master/anime3rb_scraper_v2.ipynb\" target=\"_parent\"><img src=\"https://colab.research.google.com/assets/colab-badge.svg\" alt=\"Open In Colab\"/></a>"
      ]
    },
    {
      "cell_type": "markdown",
      "source": [],
      "metadata": {
        "id": "CqZkT8xhpFsf"
      }
    },
    {
      "cell_type": "markdown",
      "source": [],
      "metadata": {
        "id": "UOBwpVCHpFNy"
      }
    },
    {
      "cell_type": "code",
      "source": [],
      "metadata": {
        "id": "Zv1KW5EGpE1z"
      },
      "execution_count": null,
      "outputs": []
    },
    {
      "cell_type": "code",
      "execution_count": null,
      "metadata": {
        "id": "67LbqOfFo41L"
      },
      "outputs": [],
      "source": [
        "aaaa"
      ]
    }
  ]
}