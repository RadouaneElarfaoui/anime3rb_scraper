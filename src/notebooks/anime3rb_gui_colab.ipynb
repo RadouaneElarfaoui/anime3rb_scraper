{
 "cells": [
  {
   "cell_type": "markdown",
   "id": "04acecf3",
   "metadata": {},
   "source": [
    "<a href=\"https://colab.research.google.com/github/RadouaneElarfaoui/anime3rb_scraper/blob/master/anime3rb_gui_colab.ipynb\" target=\"_parent\"><img src=\"https://colab.research.google.com/assets/colab-badge.svg\" alt=\"Open In Colab\"/></a>"
   ]
  },
  {
   "cell_type": "markdown",
   "id": "629c269a",
   "metadata": {},
   "source": [
    "# Anime3rb Downloader GUI - Google Colab Notebook\n",
    "\n",
    "Ce notebook vous permet d'exécuter l'interface graphique (GUI) du téléchargeur Anime3rb directement dans Google Colab. Il installera les dépendances nécessaires et lancera l'application GUI."
   ]
  },
  {
   "cell_type": "code",
   "execution_count": null,
   "id": "5ffe8ab5",
   "metadata": {},
   "outputs": [],
   "source": [
    "# 1. Installation des dépendances\n",
    "!pip install cloudscraper beautifulsoup4 gradio tqdm requests"
   ]
  },
  {
   "cell_type": "code",
   "execution_count": null,
   "id": "bfea64ba",
   "metadata": {},
   "outputs": [],
   "source": [
    "# 2. Téléchargement du script GUI\n",
    "!wget -O gui_app.py https://raw.githubusercontent.com/RadouaneElarfaoui/anime3rb_scraper/master/src/anime3rb_downloader/gui_app.py"
   ]
  },
  {
   "cell_type": "code",
   "execution_count": null,
   "id": "33ef74c9",
   "metadata": {},
   "outputs": [],
   "source": [
    "# 3. Lancement de l'interface graphique\n",
    "!python gui_app.py"
   ]
  }
 ],
 "metadata": {
  "language_info": {
   "name": "python"
  }
 },
 "nbformat": 4,
 "nbformat_minor": 5
}
